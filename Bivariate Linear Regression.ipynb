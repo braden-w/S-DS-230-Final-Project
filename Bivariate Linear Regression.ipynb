{
 "cells": [
  {
   "cell_type": "code",
   "execution_count": 2,
   "metadata": {},
   "outputs": [],
   "source": [
    "# Import pandas as pd\n",
    "import pandas as pd\n",
    "\n",
    "# Import matplotlib.pyplot as plt\n",
    "import matplotlib.pyplot as plt\n",
    "\n",
    "# Import fdi_data.csv to a dataframe df\n",
    "df = pd.read_csv(\"fdi_data.csv\")\n"
   ]
  },
  {
   "cell_type": "code",
   "execution_count": 3,
   "metadata": {},
   "outputs": [],
   "source": [
    "# Clean the data and show only \"ka_open\" and \"fdi_per_gdp\" columns\n",
    "df = df[[\"ka_open\", \"fdi_per_gdp\"]]\n",
    "df = df.dropna()"
   ]
  },
  {
   "cell_type": "code",
   "execution_count": 4,
   "metadata": {},
   "outputs": [
    {
     "name": "stdout",
     "output_type": "stream",
     "text": [
      "           ka_open  fdi_per_gdp\n",
      "count  6631.000000  6631.000000\n",
      "mean      0.463532     3.168164\n",
      "std       0.362011     9.002977\n",
      "min       0.000000   -55.234058\n",
      "25%       0.164345     0.391619\n",
      "50%       0.416872     1.459419\n",
      "75%       0.835655     3.677620\n",
      "max       1.000000   280.131833\n"
     ]
    }
   ],
   "source": [
    "print(df.describe())"
   ]
  },
  {
   "cell_type": "code",
   "execution_count": 5,
   "metadata": {},
   "outputs": [
    {
     "name": "stdout",
     "output_type": "stream",
     "text": [
      "                                 OLS Regression Results                                \n",
      "=======================================================================================\n",
      "Dep. Variable:            fdi_per_gdp   R-squared (uncentered):                   0.115\n",
      "Model:                            OLS   Adj. R-squared (uncentered):              0.115\n",
      "Method:                 Least Squares   F-statistic:                              863.0\n",
      "Date:                Fri, 29 Apr 2022   Prob (F-statistic):                   1.98e-178\n",
      "Time:                        13:26:36   Log-Likelihood:                         -23962.\n",
      "No. Observations:                6631   AIC:                                  4.793e+04\n",
      "Df Residuals:                    6630   BIC:                                  4.793e+04\n",
      "Df Model:                           1                                                  \n",
      "Covariance Type:            nonrobust                                                  \n",
      "==============================================================================\n",
      "                 coef    std err          t      P>|t|      [0.025      0.975]\n",
      "------------------------------------------------------------------------------\n",
      "ka_open        5.5070      0.187     29.377      0.000       5.139       5.874\n",
      "==============================================================================\n",
      "Omnibus:                    12571.515   Durbin-Watson:                   0.741\n",
      "Prob(Omnibus):                  0.000   Jarque-Bera (JB):         30974942.867\n",
      "Skew:                          14.405   Prob(JB):                         0.00\n",
      "Kurtosis:                     336.586   Cond. No.                         1.00\n",
      "==============================================================================\n",
      "\n",
      "Notes:\n",
      "[1] R² is computed without centering (uncentered) since the model does not contain a constant.\n",
      "[2] Standard Errors assume that the covariance matrix of the errors is correctly specified.\n",
      "ka_open    1.975300e-178\n",
      "dtype: float64\n"
     ]
    },
    {
     "data": {
      "image/png": "[encoded data removed]",
      "text/plain": [
       "<Figure size 432x288 with 1 Axes>"
      ]
     },
     "metadata": {
      "needs_background": "light"
     },
     "output_type": "display_data"
    }
   ],
   "source": [
    "# Run a bivariate linear regression on the dataframe df for variables \"ka_open\" and \"fdi_per_gdp\"\n",
    "df.plot(kind=\"scatter\", x=\"ka_open\", y=\"fdi_per_gdp\")\n",
    "\n",
    "# Set Title and Label for x and y axis\n",
    "plt.title(\"FDI per GDP vs. Capital Openness\")\n",
    "plt.xlabel(\"Capital Openness (ka_open)\")\n",
    "plt.ylabel(\"FDI per GDP (fdi_per_gdp)\")\n",
    "\n",
    "# Add a line of best fit using the statsmodels.api.OLS function\n",
    "from statsmodels.api import OLS\n",
    "\n",
    "ols = OLS(df[\"fdi_per_gdp\"], df[\"ka_open\"]).fit()\n",
    "plt.plot(df[\"ka_open\"], ols.fittedvalues)\n",
    "\n",
    "# Print the summary from OLS\n",
    "print(ols.summary())\n"
   ]
  },
  {
   "cell_type": "code",
   "execution_count": 9,
   "metadata": {},
   "outputs": [
    {
     "name": "stdout",
     "output_type": "stream",
     "text": [
      "ka_open    1.975300e-178\n",
      "dtype: float64\n",
      "ka_open    5.506958\n",
      "dtype: float64\n",
      "0.11517290266794866\n"
     ]
    }
   ],
   "source": [
    "# Print exact p value from OLS\n",
    "print(ols.pvalues)"
   ]
  }
 ],
 "metadata": {
  "interpreter": {
   "hash": "aee8b7b246df8f9039afb4144a1f6fd8d2ca17a180786b69acc140d282b71a49"
  },
  "kernelspec": {
   "display_name": "Python 3.9.10 64-bit",
   "language": "python",
   "name": "python3"
  },
  "language_info": {
   "codemirror_mode": {
    "name": "ipython",
    "version": 3
   },
   "file_extension": ".py",
   "mimetype": "text/x-python",
   "name": "python",
   "nbconvert_exporter": "python",
   "pygments_lexer": "ipython3",
   "version": "3.9.10"
  },
  "orig_nbformat": 4
 },
 "nbformat": 4,
 "nbformat_minor": 2
}
